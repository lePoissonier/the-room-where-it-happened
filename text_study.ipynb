{
 "cells": [
  {
   "cell_type": "code",
   "execution_count": null,
   "metadata": {},
   "outputs": [],
   "source": [
    "# Install a pip package in the current Jupyter kernel\n",
    "#import sys\n",
    "#!{sys.executable} -m pip install python-docx\n",
    "#!pip install "
   ]
  },
  {
   "cell_type": "code",
   "execution_count": 1,
   "metadata": {},
   "outputs": [],
   "source": [
    "import nltk\n",
    "from nltk.probability import FreqDist\n",
    "from nltk.corpus import stopwords\n",
    "from nltk.tokenize import sent_tokenize\n",
    "from nltk.tokenize import word_tokenize\n",
    "from collections import *\n",
    "import docx\n",
    "import re"
   ]
  },
  {
   "cell_type": "code",
   "execution_count": 2,
   "metadata": {},
   "outputs": [
    {
     "name": "stdout",
     "output_type": "stream",
     "text": [
      "paragraphs :  1673\n",
      "words :  205224\n",
      "words and ponctuations :  231671\n",
      "unique words :  21400\n",
      "sentences :  8063\n"
     ]
    }
   ],
   "source": [
    "# to get the full editable text\n",
    "def getText(filename):\n",
    "    doc = docx.Document(filename)\n",
    "    fullText = []\n",
    "    for para in doc.paragraphs:\n",
    "        fullText.append(para.text)\n",
    "    return '\\n '.join(fullText)\n",
    "\n",
    "letexte = getText('john_bolton_fr-converted.docx')\n",
    "\n",
    "# number of paragraphs (have to remove blank lines)\n",
    "def getparas(filename):\n",
    "    doc = docx.Document(filename)\n",
    "    paras = doc.paragraphs\n",
    "    count = 0\n",
    "    finalecount = 0\n",
    "    for para in paras:\n",
    "        if len(para.text) == 0:\n",
    "            count += 1\n",
    "            finalecount = len(paras) - count\n",
    "    return finalecount\n",
    "\n",
    "print('paragraphs : ', getparas('john_bolton_fr-converted.docx'))\n",
    "\n",
    "# number of words\n",
    "lowercase_words = letexte.lower()\n",
    "tokenized = word_tokenize(letexte)\n",
    "words = lowercase_words.split(' ')        \n",
    "print(\"words : \", len(words))\n",
    "print(\"words and ponctuations : \", len(tokenized))\n",
    "\n",
    "#number of unique words\n",
    "def count_unique_words(text_string):\n",
    "    word_list = re.split('; |, |\\*|\\n |\\s', text_string)\n",
    "    return list(dict.fromkeys(word_list))\n",
    "print('unique words : ', len(count_unique_words(letexte)))\n",
    "#count_unique_words(letexte)\n",
    "\n",
    "# number of sentences\n",
    "sentences = sent_tokenize(letexte)\n",
    "print('sentences : ', len(sentences))\n",
    "#sentences = re.split(r'[.!?]+', letexte)\n",
    "#print(sentences)\n",
    "\n",
    "#print(letexte)"
   ]
  },
  {
   "cell_type": "code",
   "execution_count": null,
   "metadata": {},
   "outputs": [],
   "source": [
    "#nombre d'apparition\n",
    "\n",
    "userinput = input(\"nombre d'apparition du mots : \")\n",
    "print(userinput, 'appears', tokenized.count(userinput), 'times')"
   ]
  },
  {
   "cell_type": "code",
   "execution_count": null,
   "metadata": {},
   "outputs": [],
   "source": [
    "nouns = []\n",
    "\n",
    "for w in tokenized:\n",
    "    if len(w) > 2 and w[0].isupper():\n",
    "        nouns.append(w)\n",
    "\n",
    "counter_variables = Counter(nouns)\n",
    "\n",
    "most_occur = counter_variables.most_common(30)\n",
    "\n",
    "for mo in most_occur:\n",
    "    print(mo)"
   ]
  },
  {
   "cell_type": "code",
   "execution_count": null,
   "metadata": {},
   "outputs": [],
   "source": [
    "#sentences with trump + Adv or Adj\n",
    "\n",
    "combinasons = [c for c in sentences if \"Trump\" in c and len(c) > 7]\n",
    "\n",
    "for c in combinasons: print('\\n',c)"
   ]
  },
  {
   "cell_type": "code",
   "execution_count": null,
   "metadata": {},
   "outputs": [],
   "source": []
  }
 ],
 "metadata": {
  "kernelspec": {
   "display_name": "Python 3",
   "language": "python",
   "name": "python3"
  },
  "language_info": {
   "codemirror_mode": {
    "name": "ipython",
    "version": 3
   },
   "file_extension": ".py",
   "mimetype": "text/x-python",
   "name": "python",
   "nbconvert_exporter": "python",
   "pygments_lexer": "ipython3",
   "version": "3.7.3"
  }
 },
 "nbformat": 4,
 "nbformat_minor": 2
}
